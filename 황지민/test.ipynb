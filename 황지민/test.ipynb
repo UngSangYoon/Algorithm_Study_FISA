{
 "cells": [
  {
   "cell_type": "code",
   "execution_count": null,
   "metadata": {},
   "outputs": [],
   "source": [
    "# 6603\n",
    "\n",
    "def combination(index, level):\n",
    "\tif level == 6:\n",
    "\t\t# 선택한 R 개의 원소를 출력\n",
    "\t\t\n",
    "\t\tprint(' '.join(map(str,choose)))\n",
    "\t\treturn\n",
    "\n",
    "\t# for문\n",
    "\tfor i in range(index, k): \n",
    "\t\tchoose.append(lst[i]) # 인덱스가 i인 원소를 선택(추가)\n",
    "\t\tcombination(i+1, level+1) # 다음 for 문으로 들어가는 역할\n",
    "\t\tchoose.pop() # (넣었던) 인덱스가 i인 원소를 제거\n",
    "\n",
    "while True:\n",
    "\n",
    "\tk, *lst = map(int, input().split())\n",
    "\tchoose = []\n",
    "\tcombination(0, 0)\n",
    "\tprint()\n",
    "    \n",
    "\tif k == 0:\n",
    "\t\tbreak  \n",
    "    "
   ]
  },
  {
   "cell_type": "code",
   "execution_count": 25,
   "metadata": {},
   "outputs": [
    {
     "name": "stdout",
     "output_type": "stream",
     "text": [
      "mixed\n"
     ]
    }
   ],
   "source": [
    "# 2920\n",
    "\n",
    "a = list(map(int, input().split()))\n",
    "\n",
    "\n",
    "if a == sorted(a):\n",
    "    print(\"ascending\")\n",
    "elif a == sorted(a, reverse=True):\n",
    "    print(\"descending\")\n",
    "else:\n",
    "    print(\"mixed\")"
   ]
  },
  {
   "cell_type": "code",
   "execution_count": 43,
   "metadata": {},
   "outputs": [
    {
     "name": "stdout",
     "output_type": "stream",
     "text": [
      "\\    /\\\n",
      " )  ( ')\n",
      "(  /  )\n",
      " \\(__)|\n"
     ]
    }
   ],
   "source": [
    "# 10171\n",
    "\n",
    "print(\"\\\\    /\\\\\", sep = '\\n')\n",
    "print(\" )  ( ')\", sep = '\\n')\n",
    "print(\"(  /  )\", sep = '\\n')\n",
    "print(\" \\\\(__)|\", sep = '\\n')\n"
   ]
  },
  {
   "cell_type": "code",
   "execution_count": 51,
   "metadata": {},
   "outputs": [
    {
     "name": "stdout",
     "output_type": "stream",
     "text": [
      "\\    /\\ \n",
      " )  ( ')\n",
      "(  /  )\n",
      " \\(__)|\n"
     ]
    }
   ],
   "source": [
    "print('''\\    /\\\\\n",
    " )  ( ')\n",
    "(  /  )\n",
    " \\(__)|''')"
   ]
  },
  {
   "cell_type": "code",
   "execution_count": 59,
   "metadata": {},
   "outputs": [
    {
     "name": "stdout",
     "output_type": "stream",
     "text": [
      "\\    /\\\n",
      "\\    /\\\n",
      "\\    /\\\n"
     ]
    }
   ],
   "source": [
    "print('\\\\    /\\\\')\n",
    "print(\"\\\\    /\\\\\")\n",
    "print('''\\    /\\\\''')"
   ]
  },
  {
   "cell_type": "code",
   "execution_count": 60,
   "metadata": {},
   "outputs": [
    {
     "name": "stdout",
     "output_type": "stream",
     "text": [
      "|\\_/|\n",
      "|q p|   /}\n",
      "( 0 )\"\"\"\\\n",
      "|\"^\"`    |\n",
      "||_/=\\__|\n"
     ]
    }
   ],
   "source": [
    "# 10172\n",
    "print(\"|\\_/|\", sep = '\\n')\n",
    "print(\"|q p|   /}\", sep = '\\n')\n",
    "print('( 0 )\"\"\"\\\\', sep = '\\n')\n",
    "print('|\"^\"`    |', sep = '\\n')\n",
    "print(\"||_/=\\\\\\__|\", sep = '\\n')"
   ]
  },
  {
   "cell_type": "code",
   "execution_count": 75,
   "metadata": {},
   "outputs": [
    {
     "name": "stdout",
     "output_type": "stream",
     "text": [
      "Case #1 : 2\n",
      "Case #2 : 4\n"
     ]
    }
   ],
   "source": [
    "# 11021\n",
    "\n",
    "t = int(input())\n",
    "\n",
    "for i in range(1, t+1):\n",
    "    t1, t2 = map(int, input().split())\n",
    "\n",
    "    print(f'Case #{i}: {t1+t2}')\n",
    "\n"
   ]
  },
  {
   "cell_type": "code",
   "execution_count": 15,
   "metadata": {},
   "outputs": [
    {
     "name": "stdout",
     "output_type": "stream",
     "text": [
      "-2 3\n",
      "-1 1\n",
      "-1 4\n"
     ]
    }
   ],
   "source": [
    "# 11650\n",
    "\n",
    "# 점 N개\n",
    "# x좌표 증가 -> x좌표가 같으면 y좌표 증가\n",
    "\n",
    "N = int(input())\n",
    "a = [list(map(int, input().split())) for _ in range(N)]\n",
    "\n",
    "result = sorted(a, key = lambda x: (x[0], x[1]))\n",
    "\n",
    "for i in result:\n",
    "    print(i[0], i[1])"
   ]
  },
  {
   "cell_type": "code",
   "execution_count": 37,
   "metadata": {},
   "outputs": [
    {
     "name": "stdout",
     "output_type": "stream",
     "text": [
      "815 717 301 "
     ]
    }
   ],
   "source": [
    "# 23246\n",
    "\n",
    "# v 클라이밍 종류: 3개\n",
    "# 3개 순위 곱\n",
    "# 곱이 작을수록 종합순위에 앞섬\n",
    "# v 선수 n명\n",
    "# 곱이 같을때, 합이 낮은 선수가 이김\n",
    "# 합도 같으면 등번호가 낮은 선수가 이김\n",
    "\n",
    "N = int(input())\n",
    "lst = []\n",
    "\n",
    "for _ in range(N):\n",
    "    num, *score = list(map(int, input().split()))\n",
    "    \n",
    "    sco = 1\n",
    "    total = 0\n",
    "    for i in score:\n",
    "        sco *= i \n",
    "        total += i \n",
    "\n",
    "    lst.append((sco, total, num))\n",
    "\n",
    "lst.sort(key=lambda x: (x[0], x[1], x[2]))\n",
    "\n",
    "\n",
    "for j in lst[:3]:\n",
    "    print(j[2], end=' ') \n",
    "\n"
   ]
  },
  {
   "cell_type": "code",
   "execution_count": 36,
   "metadata": {},
   "outputs": [
    {
     "name": "stdout",
     "output_type": "stream",
     "text": [
      "815 717 301 "
     ]
    }
   ],
   "source": [
    "N = int(input())  # 선수 수\n",
    "lst = []\n",
    "\n",
    "# 선수의 정보 입력받기\n",
    "for _ in range(N):\n",
    "    num, *score = list(map(int, input().split()))  # 선수 번호와 점수들\n",
    "    \n",
    "    sco = 1\n",
    "    total = 0\n",
    "    for i in score:\n",
    "        sco *= i  # 점수 곱\n",
    "        total += i  # 점수 합\n",
    "\n",
    "    lst.append((sco, total, num))  # (곱, 합, 번호) 형식으로 저장\n",
    "\n",
    "# 정렬: 첫 번째 기준은 곱, 두 번째는 합, 세 번째는 선수 번호\n",
    "lst.sort(key=lambda x: (x[0], x[1], x[2]))\n",
    "\n",
    "\n",
    "# 결과 출력\n",
    "for j in lst[:3]:\n",
    "    print(j[2], end=' ')  # 선수 번호 출력\n"
   ]
  },
  {
   "cell_type": "code",
   "execution_count": null,
   "metadata": {},
   "outputs": [],
   "source": []
  }
 ],
 "metadata": {
  "kernelspec": {
   "display_name": "Python 3",
   "language": "python",
   "name": "python3"
  },
  "language_info": {
   "codemirror_mode": {
    "name": "ipython",
    "version": 3
   },
   "file_extension": ".py",
   "mimetype": "text/x-python",
   "name": "python",
   "nbconvert_exporter": "python",
   "pygments_lexer": "ipython3",
   "version": "3.11.9"
  }
 },
 "nbformat": 4,
 "nbformat_minor": 2
}
