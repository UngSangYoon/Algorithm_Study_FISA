{
  "nbformat": 4,
  "nbformat_minor": 0,
  "metadata": {
    "colab": {
      "provenance": []
    },
    "kernelspec": {
      "name": "python3",
      "display_name": "Python 3"
    },
    "language_info": {
      "name": "python"
    }
  },
  "cells": [
    {
      "cell_type": "markdown",
      "source": [
        "# 첫번째 풀이\n",
        "- 간단하지만 경우의 수를 나눠 하나씩 다 코드를 작성함\n",
        "- 문제 틀렸음"
      ],
      "metadata": {
        "id": "hF2-fGcxGSOl"
      }
    },
    {
      "cell_type": "code",
      "source": [
        "# 주사위 입력받기\n",
        "a, b, c = map(int, input().split())\n",
        "\n",
        "# 같은 눈 3개\n",
        "if (a == b == c):\n",
        "    print(10000 + (a * 1000))\n",
        "\n",
        "# 같은 눈 2개\n",
        "# a, b /a, c/ b, c\n",
        "elif (a == b):\n",
        "    print(1000 + (a * 100))\n",
        "\n",
        "elif (a == c):\n",
        "    print(1000 + (a * 100))\n",
        "\n",
        "elif (b == c):\n",
        "    print(1000 + (a * 100))\n",
        "\n",
        "# 모두 다른 눈\n",
        "else:\n",
        "    print(max(a, b, c) * 100)"
      ],
      "metadata": {
        "colab": {
          "base_uri": "https://localhost:8080/"
        },
        "id": "Ff_RbbeIAP71",
        "outputId": "aa5a1e75-828d-40e3-c479-29c32ea7e302"
      },
      "execution_count": 3,
      "outputs": [
        {
          "output_type": "stream",
          "name": "stdout",
          "text": [
            "3 3 6\n",
            "1300\n"
          ]
        }
      ]
    },
    {
      "cell_type": "markdown",
      "source": [
        "# 두번째 풀이\n",
        "- 메모리를 좀 더 절약해야겠다고 생각해서 먼저 list로 만들어서 오름차순 정렬을 진행함\n",
        "- 그리고 3가지 경우의 수로 나눠 진행함 (이미 정렬이 되어 있기 때문에 좀 더 간소함)"
      ],
      "metadata": {
        "id": "iJ4A-OolGkl0"
      }
    },
    {
      "cell_type": "code",
      "source": [
        "# 주사위 입력받기\n",
        "a, b, c = map(int, input().split())\n",
        "# 오름차순 정렬\n",
        "[a, b, c] = sorted([a, b, c])\n",
        "\n",
        "# 세 눈 모두 같은 경우\n",
        "if a == b and b == c:\n",
        "   print(10000 + (a * 1000))\n",
        "# 두 눈만 같은 경우\n",
        "elif a == b or b == c:\n",
        "    print(1000 + (b * 100))\n",
        "# 모두 다른 경우\n",
        "else:\n",
        "    print(c * 100)"
      ],
      "metadata": {
        "colab": {
          "base_uri": "https://localhost:8080/"
        },
        "id": "OTep3I5XDr1U",
        "outputId": "c81e8ef8-631f-4e19-88f5-35adaf81c8fd"
      },
      "execution_count": 5,
      "outputs": [
        {
          "output_type": "stream",
          "name": "stdout",
          "text": [
            "3 3 6\n",
            "1300\n"
          ]
        }
      ]
    }
  ]
}